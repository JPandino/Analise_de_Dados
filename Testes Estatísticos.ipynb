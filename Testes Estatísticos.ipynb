{
  "nbformat": 4,
  "nbformat_minor": 0,
  "metadata": {
    "colab": {
      "provenance": []
    },
    "kernelspec": {
      "name": "python3",
      "display_name": "Python 3"
    },
    "language_info": {
      "name": "python"
    }
  },
  "cells": [
    {
      "cell_type": "markdown",
      "metadata": {
        "id": "YfdqpCq1icHx"
      },
      "source": [
        "## Teste de Normalidade - Lilliefors\n",
        "\n",
        "Documentação: https://www.statsmodels.org/stable/generated/statsmodels.stats.diagnostic.lilliefors.html#statsmodels.stats.diagnostic.lilliefors\n",
        "\n",
        "**Retorno:**\n",
        "- ``ksstat`` : float  \n",
        "    Kolmogorov-Smirnov test statistic with estimated mean and variance.\n",
        "- ``pvalue`` : float  \n",
        "    If the pvalue is lower than some threshold, e.g. 0.05, then we can\n",
        "    reject the Null hypothesis that the sample comes from a normal\n",
        "    distribution."
      ]
    },
    {
      "cell_type": "code",
      "execution_count": null,
      "metadata": {
        "id": "dkOHKD1P9ce4",
        "outputId": "102ea275-2e35-4498-c52d-bf05982c61cb",
        "colab": {
          "base_uri": "https://localhost:8080/"
        }
      },
      "outputs": [
        {
          "output_type": "stream",
          "name": "stdout",
          "text": [
            "P-valor: 0.1807109869595001 \n",
            "KS stats: 469.13605535529746\n"
          ]
        }
      ],
      "source": [
        "import pandas as pd\n",
        "import statsmodels.api as sm  # Lilliefors\n",
        "\n",
        "stats_test = {}\n",
        "\n",
        "df = pd.DataFrame({'Dados': [10, 20, 15, 25, 5, 10, 30, 15, 20, 10]})  #  DataFrame de exemplo (Substitua pelos dados reais)\n",
        "\n",
        "stats_test[\"Lilliefors p-valor\"], stats_test[\"Lilliefors KS stats\"] = sm.stats.diagnostic.lilliefors(df, dist='norm', pvalmethod='table')\n",
        "stats_test[\"Lilliefors KS stats\"] = stats_test[\"Lilliefors KS stats\"]*1000\n",
        "print(\"P-valor:\", stats_test[\"Lilliefors p-valor\"], \"\\nKS stats:\", stats_test[\"Lilliefors KS stats\"])"
      ]
    },
    {
      "cell_type": "markdown",
      "metadata": {
        "id": "LxuTVnSqin-5"
      },
      "source": [
        "## Testes para Detecção de Tendência"
      ]
    },
    {
      "cell_type": "markdown",
      "metadata": {
        "id": "ZO9ETHuPhgIz"
      },
      "source": [
        "### Teste de Mann-kendall - Amostra Inteira\n",
        "\n",
        "Documentação: https://pypi.org/project/pymannkendall/\n",
        "\n",
        "**Retorno**\n",
        "- ``trend`` : tells the trend (increasing, decreasing or no trend)\n",
        "- ``h`` : True (if trend is present) or False (if trend is absence)\n",
        "- ``p`` : p-value of the significance test\n",
        "- ``z`` : normalized test statistics\n",
        "- ``Tau`` : Kendall Tau\n",
        "- ``s`` : Mann-Kendal's score\n",
        "- ``var_s`` : Variance S\n",
        "- ``slope`` : Theil-Sen estimator/slope\n",
        "- ``intercept`` : intercept of Kendall-Theil Robust Line"
      ]
    },
    {
      "cell_type": "code",
      "execution_count": null,
      "metadata": {
        "id": "mWfar5JVAh6t",
        "outputId": "37774c2b-4284-436c-8c39-d3f81ffab397",
        "colab": {
          "base_uri": "https://localhost:8080/"
        }
      },
      "outputs": [
        {
          "output_type": "stream",
          "name": "stdout",
          "text": [
            "Collecting pymannkendall\n",
            "  Downloading pymannkendall-1.4.3-py3-none-any.whl (12 kB)\n",
            "Requirement already satisfied: numpy in /usr/local/lib/python3.10/dist-packages (from pymannkendall) (1.23.5)\n",
            "Requirement already satisfied: scipy in /usr/local/lib/python3.10/dist-packages (from pymannkendall) (1.10.1)\n",
            "Installing collected packages: pymannkendall\n",
            "Successfully installed pymannkendall-1.4.3\n"
          ]
        }
      ],
      "source": [
        "!pip install pymannkendall"
      ]
    },
    {
      "cell_type": "code",
      "execution_count": null,
      "metadata": {
        "id": "7Th4VO6hhrhQ",
        "outputId": "4f8715f6-c0aa-4393-e087-eccaf4a6cf61",
        "colab": {
          "base_uri": "https://localhost:8080/"
        }
      },
      "outputs": [
        {
          "output_type": "stream",
          "name": "stdout",
          "text": [
            "P-valor: 0.9270621499412963 \n",
            "Score: 2.0\n"
          ]
        }
      ],
      "source": [
        "import pandas as pd\n",
        "import pymannkendall as mk  # É preciso instalar a biblioteca\n",
        "\n",
        "df = pd.DataFrame({'Dados': [10, 20, 15, 25, 5, 10, 30, 15, 20, 10]})  #  DataFrame de exemplo (Substitua pelos dados reais)\n",
        "\n",
        "stats_test[\"MK p-valor\"] = mk.original_test(df, alpha=0.05).p\n",
        "stats_test[\"MK score\"] = mk.original_test(df, alpha=0.05).s\n",
        "print(\"P-valor:\", stats_test[\"MK p-valor\"], \"\\nScore:\", stats_test[\"MK score\"])"
      ]
    },
    {
      "cell_type": "markdown",
      "metadata": {
        "id": "bv6DMpAbhY97"
      },
      "source": [
        "### Teste de Pettit - Subamostras\n",
        "\n",
        "Documentação: https://pypi.org/project/pyhomogeneity/\n",
        "\n",
        "**Retorno**\n",
        "- ``h`` : True (if data is nonhomogeneous) or False (if data is homogeneous)\n",
        "- ``cp`` : probable change point location index\n",
        "- ``p`` : p-value of the significance test\n",
        "- ``U`` : Maximum of absolute Pettitt's U Statistics\n",
        "- ``avg`` : mean values at before and after change point"
      ]
    },
    {
      "cell_type": "code",
      "execution_count": null,
      "metadata": {
        "id": "6u04-pH5Ah6u",
        "outputId": "b6fa4e62-b926-4fef-bb88-a27c6b8bcc60",
        "colab": {
          "base_uri": "https://localhost:8080/"
        }
      },
      "outputs": [
        {
          "output_type": "stream",
          "name": "stdout",
          "text": [
            "Collecting pyhomogeneity\n",
            "  Downloading pyhomogeneity-1.1-py3-none-any.whl (12 kB)\n",
            "Requirement already satisfied: numpy in /usr/local/lib/python3.10/dist-packages (from pyhomogeneity) (1.23.5)\n",
            "Requirement already satisfied: scipy in /usr/local/lib/python3.10/dist-packages (from pyhomogeneity) (1.10.1)\n",
            "Installing collected packages: pyhomogeneity\n",
            "Successfully installed pyhomogeneity-1.1\n"
          ]
        }
      ],
      "source": [
        "!pip install pyhomogeneity"
      ]
    },
    {
      "cell_type": "code",
      "execution_count": null,
      "metadata": {
        "id": "570O-1A6hfs-",
        "outputId": "6cea30b6-4eee-4bee-9224-f46ba4c04035",
        "colab": {
          "base_uri": "https://localhost:8080/"
        }
      },
      "outputs": [
        {
          "output_type": "stream",
          "name": "stdout",
          "text": [
            "P-valor: 0.92095 \n",
            "Break Point: 6 \n",
            "U stats: 8.0\n"
          ]
        }
      ],
      "source": [
        "import pandas as pd\n",
        "import pyhomogeneity as hg  # É preciso instalar a biblioteca\n",
        "\n",
        "df = pd.DataFrame({'Dados': [10, 20, 15, 25, 5, 10, 30, 15, 20, 10]})  #  DataFrame de exemplo (Substitua pelos dados reais)\n",
        "\n",
        "stats_test[\"Pettitt Break_Point\"], stats_test[\"Pettitt p-valor\"], stats_test[\"Pettitt U stats\"] = hg.pettitt_test(df)[1:4]\n",
        "print(\"P-valor:\", stats_test[\"Pettitt p-valor\"], \"\\nBreak Point:\", stats_test[\"Pettitt Break_Point\"], \"\\nU stats:\", stats_test[\"Pettitt U stats\"])"
      ]
    },
    {
      "cell_type": "markdown",
      "metadata": {
        "id": "hamO17VrAh6u"
      },
      "source": [
        "### Resumo dos Testes Estatísticos para Detecção de Tendência"
      ]
    },
    {
      "cell_type": "code",
      "execution_count": null,
      "metadata": {
        "id": "2nzibOX9Ah6u",
        "outputId": "12ed5191-0185-4ba4-e187-9e7863c23c1c",
        "colab": {
          "base_uri": "https://localhost:8080/",
          "height": 89
        }
      },
      "outputs": [
        {
          "output_type": "execute_result",
          "data": {
            "text/plain": [
              "           MK p-valor  MK score  Pettitt Break_Point  Pettitt p-valor  \\\n",
              "DataFrame       0.927       2.0                    6            0.921   \n",
              "\n",
              "           Pettitt U stats  \n",
              "DataFrame              8.0  "
            ],
            "text/html": [
              "\n",
              "  <div id=\"df-1db2fa63-0875-47f2-b863-5fd0dc1c370e\" class=\"colab-df-container\">\n",
              "    <div>\n",
              "<style scoped>\n",
              "    .dataframe tbody tr th:only-of-type {\n",
              "        vertical-align: middle;\n",
              "    }\n",
              "\n",
              "    .dataframe tbody tr th {\n",
              "        vertical-align: top;\n",
              "    }\n",
              "\n",
              "    .dataframe thead th {\n",
              "        text-align: right;\n",
              "    }\n",
              "</style>\n",
              "<table border=\"1\" class=\"dataframe\">\n",
              "  <thead>\n",
              "    <tr style=\"text-align: right;\">\n",
              "      <th></th>\n",
              "      <th>MK p-valor</th>\n",
              "      <th>MK score</th>\n",
              "      <th>Pettitt Break_Point</th>\n",
              "      <th>Pettitt p-valor</th>\n",
              "      <th>Pettitt U stats</th>\n",
              "    </tr>\n",
              "  </thead>\n",
              "  <tbody>\n",
              "    <tr>\n",
              "      <th>DataFrame</th>\n",
              "      <td>0.927</td>\n",
              "      <td>2.0</td>\n",
              "      <td>6</td>\n",
              "      <td>0.921</td>\n",
              "      <td>8.0</td>\n",
              "    </tr>\n",
              "  </tbody>\n",
              "</table>\n",
              "</div>\n",
              "    <div class=\"colab-df-buttons\">\n",
              "\n",
              "  <div class=\"colab-df-container\">\n",
              "    <button class=\"colab-df-convert\" onclick=\"convertToInteractive('df-1db2fa63-0875-47f2-b863-5fd0dc1c370e')\"\n",
              "            title=\"Convert this dataframe to an interactive table.\"\n",
              "            style=\"display:none;\">\n",
              "\n",
              "  <svg xmlns=\"http://www.w3.org/2000/svg\" height=\"24px\" viewBox=\"0 -960 960 960\">\n",
              "    <path d=\"M120-120v-720h720v720H120Zm60-500h600v-160H180v160Zm220 220h160v-160H400v160Zm0 220h160v-160H400v160ZM180-400h160v-160H180v160Zm440 0h160v-160H620v160ZM180-180h160v-160H180v160Zm440 0h160v-160H620v160Z\"/>\n",
              "  </svg>\n",
              "    </button>\n",
              "\n",
              "  <style>\n",
              "    .colab-df-container {\n",
              "      display:flex;\n",
              "      gap: 12px;\n",
              "    }\n",
              "\n",
              "    .colab-df-convert {\n",
              "      background-color: #E8F0FE;\n",
              "      border: none;\n",
              "      border-radius: 50%;\n",
              "      cursor: pointer;\n",
              "      display: none;\n",
              "      fill: #1967D2;\n",
              "      height: 32px;\n",
              "      padding: 0 0 0 0;\n",
              "      width: 32px;\n",
              "    }\n",
              "\n",
              "    .colab-df-convert:hover {\n",
              "      background-color: #E2EBFA;\n",
              "      box-shadow: 0px 1px 2px rgba(60, 64, 67, 0.3), 0px 1px 3px 1px rgba(60, 64, 67, 0.15);\n",
              "      fill: #174EA6;\n",
              "    }\n",
              "\n",
              "    .colab-df-buttons div {\n",
              "      margin-bottom: 4px;\n",
              "    }\n",
              "\n",
              "    [theme=dark] .colab-df-convert {\n",
              "      background-color: #3B4455;\n",
              "      fill: #D2E3FC;\n",
              "    }\n",
              "\n",
              "    [theme=dark] .colab-df-convert:hover {\n",
              "      background-color: #434B5C;\n",
              "      box-shadow: 0px 1px 3px 1px rgba(0, 0, 0, 0.15);\n",
              "      filter: drop-shadow(0px 1px 2px rgba(0, 0, 0, 0.3));\n",
              "      fill: #FFFFFF;\n",
              "    }\n",
              "  </style>\n",
              "\n",
              "    <script>\n",
              "      const buttonEl =\n",
              "        document.querySelector('#df-1db2fa63-0875-47f2-b863-5fd0dc1c370e button.colab-df-convert');\n",
              "      buttonEl.style.display =\n",
              "        google.colab.kernel.accessAllowed ? 'block' : 'none';\n",
              "\n",
              "      async function convertToInteractive(key) {\n",
              "        const element = document.querySelector('#df-1db2fa63-0875-47f2-b863-5fd0dc1c370e');\n",
              "        const dataTable =\n",
              "          await google.colab.kernel.invokeFunction('convertToInteractive',\n",
              "                                                    [key], {});\n",
              "        if (!dataTable) return;\n",
              "\n",
              "        const docLinkHtml = 'Like what you see? Visit the ' +\n",
              "          '<a target=\"_blank\" href=https://colab.research.google.com/notebooks/data_table.ipynb>data table notebook</a>'\n",
              "          + ' to learn more about interactive tables.';\n",
              "        element.innerHTML = '';\n",
              "        dataTable['output_type'] = 'display_data';\n",
              "        await google.colab.output.renderOutput(dataTable, element);\n",
              "        const docLink = document.createElement('div');\n",
              "        docLink.innerHTML = docLinkHtml;\n",
              "        element.appendChild(docLink);\n",
              "      }\n",
              "    </script>\n",
              "  </div>\n",
              "\n",
              "\n",
              "<div id=\"df-585e64e5-9ab8-4300-806c-ec816492c98e\">\n",
              "  <button class=\"colab-df-quickchart\" onclick=\"quickchart('df-585e64e5-9ab8-4300-806c-ec816492c98e')\"\n",
              "            title=\"Suggest charts.\"\n",
              "            style=\"display:none;\">\n",
              "\n",
              "<svg xmlns=\"http://www.w3.org/2000/svg\" height=\"24px\"viewBox=\"0 0 24 24\"\n",
              "     width=\"24px\">\n",
              "    <g>\n",
              "        <path d=\"M19 3H5c-1.1 0-2 .9-2 2v14c0 1.1.9 2 2 2h14c1.1 0 2-.9 2-2V5c0-1.1-.9-2-2-2zM9 17H7v-7h2v7zm4 0h-2V7h2v10zm4 0h-2v-4h2v4z\"/>\n",
              "    </g>\n",
              "</svg>\n",
              "  </button>\n",
              "\n",
              "<style>\n",
              "  .colab-df-quickchart {\n",
              "    background-color: #E8F0FE;\n",
              "    border: none;\n",
              "    border-radius: 50%;\n",
              "    cursor: pointer;\n",
              "    display: none;\n",
              "    fill: #1967D2;\n",
              "    height: 32px;\n",
              "    padding: 0 0 0 0;\n",
              "    width: 32px;\n",
              "  }\n",
              "\n",
              "  .colab-df-quickchart:hover {\n",
              "    background-color: #E2EBFA;\n",
              "    box-shadow: 0px 1px 2px rgba(60, 64, 67, 0.3), 0px 1px 3px 1px rgba(60, 64, 67, 0.15);\n",
              "    fill: #174EA6;\n",
              "  }\n",
              "\n",
              "  [theme=dark] .colab-df-quickchart {\n",
              "    background-color: #3B4455;\n",
              "    fill: #D2E3FC;\n",
              "  }\n",
              "\n",
              "  [theme=dark] .colab-df-quickchart:hover {\n",
              "    background-color: #434B5C;\n",
              "    box-shadow: 0px 1px 3px 1px rgba(0, 0, 0, 0.15);\n",
              "    filter: drop-shadow(0px 1px 2px rgba(0, 0, 0, 0.3));\n",
              "    fill: #FFFFFF;\n",
              "  }\n",
              "</style>\n",
              "\n",
              "  <script>\n",
              "    async function quickchart(key) {\n",
              "      const charts = await google.colab.kernel.invokeFunction(\n",
              "          'suggestCharts', [key], {});\n",
              "    }\n",
              "    (() => {\n",
              "      let quickchartButtonEl =\n",
              "        document.querySelector('#df-585e64e5-9ab8-4300-806c-ec816492c98e button');\n",
              "      quickchartButtonEl.style.display =\n",
              "        google.colab.kernel.accessAllowed ? 'block' : 'none';\n",
              "    })();\n",
              "  </script>\n",
              "</div>\n",
              "    </div>\n",
              "  </div>\n"
            ]
          },
          "metadata": {},
          "execution_count": 6
        }
      ],
      "source": [
        "# Organização dos resultados\n",
        "resume_test = pd.DataFrame(data = stats_test, index=[\"DataFrame\"]).round(3)\n",
        "resume_test"
      ]
    },
    {
      "cell_type": "markdown",
      "source": [
        "## Teste de Estacionariedade"
      ],
      "metadata": {
        "id": "2Ce2QO20Ym10"
      }
    },
    {
      "cell_type": "markdown",
      "source": [
        "### Teste de Dickey-Fuller aumentado\n",
        "\n",
        "Documentação: https://www.statsmodels.org/dev/generated/statsmodels.tsa.stattools.adfuller.html\n",
        "\n",
        "**Retorno**\n",
        "- ``test statistic`` : Critical values for the test statistic at the 1 %, 5 %, and 10 % levels. Based on MacKinnon (2010).\n",
        "- ``p-value`` : MacKinnon’s approximate p-value based on MacKinnon (1994, 2010).\n",
        "- ``Lags Used`` : The number of lags used.\n",
        "- ``Number of used observations`` : Data sample size."
      ],
      "metadata": {
        "id": "Ujs5pLqzUfh4"
      }
    },
    {
      "cell_type": "code",
      "execution_count": 1,
      "metadata": {
        "id": "GQcNZYhcYdnJ",
        "colab": {
          "base_uri": "https://localhost:8080/"
        },
        "outputId": "c789f6a1-e451-44ba-ffd0-49b5835936ef"
      },
      "outputs": [
        {
          "output_type": "stream",
          "name": "stdout",
          "text": [
            "Test statistics               -2.287837\n",
            "p-value                        0.175921\n",
            "Lags Used                      3.000000\n",
            "Number of used observations    6.000000\n",
            "dtype: float64\n"
          ]
        }
      ],
      "source": [
        "import pandas as pd\n",
        "from statsmodels.tsa.stattools import adfuller\n",
        "\n",
        "def stat_test(series_value):\n",
        "\n",
        "    #Let's check if the series is stationary:\n",
        "    stat_test = adfuller(series_value)\n",
        "    test_result = pd.Series(stat_test[0:4], index = ['Test statistics', 'p-value', 'Lags Used', 'Number of used observations'])\n",
        "\n",
        "    print(test_result)\n",
        "\n",
        "df = pd.DataFrame({'Dados': [10, 20, 15, 25, 5, 10, 30, 15, 20, 10]})  #  DataFrame de exemplo (Substitua pelos dados reais)\n",
        "\n",
        "stat_test(df)"
      ]
    }
  ]
}