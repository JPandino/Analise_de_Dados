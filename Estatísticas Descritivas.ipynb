{
  "nbformat": 4,
  "nbformat_minor": 0,
  "metadata": {
    "colab": {
      "provenance": []
    },
    "kernelspec": {
      "name": "python3",
      "display_name": "Python 3"
    },
    "language_info": {
      "name": "python"
    }
  },
  "cells": [
    {
      "cell_type": "markdown",
      "source": [
        "O input pode ser um DataFrame com mais de um conjunto de dados, ou seja, um DataFrame com dados de mais de uma variável."
      ],
      "metadata": {
        "id": "9viN3kwoRmux"
      }
    },
    {
      "cell_type": "code",
      "execution_count": 1,
      "metadata": {
        "colab": {
          "base_uri": "https://localhost:8080/"
        },
        "id": "0A2LEaTIRhcM",
        "outputId": "3f99d627-d3d4-4f09-b1ab-1f1da3caaeb0"
      },
      "outputs": [
        {
          "output_type": "stream",
          "name": "stdout",
          "text": [
            "                             A      B      C\n",
            "Tamanho                  3.000  3.000  3.000\n",
            "Média                    2.000  5.000  8.000\n",
            "Primeiro Quartil         1.500  4.500  7.500\n",
            "Segundo Quartil          2.000  5.000  8.000\n",
            "Terceiro Quartil         2.500  5.500  8.500\n",
            "Máximo                   3.000  6.000  9.000\n",
            "Mínimo                   1.000  4.000  7.000\n",
            "Amplitude                2.000  2.000  2.000\n",
            "Variância                0.667  0.667  0.667\n",
            "Desvio Padrão            0.816  0.816  0.816\n",
            "Coeficiente de Variação  2.449  6.124  9.798\n",
            "Assimetria               0.000  0.000  0.000\n"
          ]
        }
      ],
      "source": [
        "import pandas as pd\n",
        "import numpy as np\n",
        "from scipy import stats\n",
        "\n",
        "def solve_stats_dataframe(df):\n",
        "    def solve_stats(data):\n",
        "        tamanho = len(data)\n",
        "        media = np.mean(data)\n",
        "        #moda = stats.mode(data)\n",
        "        q1 = np.percentile(data, 25)\n",
        "        q2 = np.percentile(data, 50)\n",
        "        q3 = np.percentile(data, 75)\n",
        "        maximo = np.max(data)\n",
        "        minimo = np.min(data)\n",
        "        amplitude = maximo - minimo\n",
        "        variancia = np.var(data)\n",
        "        desvio_padrao = np.std(data)\n",
        "        coef_variacao = media / desvio_padrao\n",
        "        assimetria = stats.skew(data)\n",
        "\n",
        "        return {\n",
        "            'Tamanho': tamanho,\n",
        "            'Média': media,\n",
        "            #'Moda': moda,\n",
        "            'Primeiro Quartil': q1,\n",
        "            'Segundo Quartil': q2,\n",
        "            'Terceiro Quartil': q3,\n",
        "            'Máximo': maximo,\n",
        "            'Mínimo': minimo,\n",
        "            'Amplitude': amplitude,\n",
        "            'Variância': variancia,\n",
        "            'Desvio Padrão': desvio_padrao,\n",
        "            'Coeficiente de Variação': coef_variacao,\n",
        "            'Assimetria': assimetria\n",
        "        }\n",
        "\n",
        "    resultados = {\n",
        "        column_name: solve_stats(column.values)\n",
        "        for column_name, column in df.items()\n",
        "    }\n",
        "\n",
        "    df_resultados = pd.DataFrame(resultados)\n",
        "    df_resultados = df_resultados.round(3)\n",
        "\n",
        "    return df_resultados\n",
        "\n",
        "# DataFrame de exemplo\n",
        "df = pd.DataFrame({'A': [1, 2, 3], 'B': [4, 5, 6], 'C': [7, 8, 9]})\n",
        "\n",
        "# Chamar a função para calcular estatísticas descritivas do DataFrame\n",
        "df_resultados = solve_stats_dataframe(df)\n",
        "\n",
        "print(df_resultados)"
      ]
    }
  ]
}